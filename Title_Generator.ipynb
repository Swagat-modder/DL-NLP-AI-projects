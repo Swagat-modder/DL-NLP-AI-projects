{
  "nbformat": 4,
  "nbformat_minor": 0,
  "metadata": {
    "colab": {
      "provenance": [],
      "gpuType": "T4",
      "authorship_tag": "ABX9TyO7u5z7wqqTYTo8kIwIa5v6",
      "include_colab_link": true
    },
    "kernelspec": {
      "name": "python3",
      "display_name": "Python 3"
    },
    "language_info": {
      "name": "python"
    },
    "accelerator": "GPU"
  },
  "cells": [
    {
      "cell_type": "markdown",
      "metadata": {
        "id": "view-in-github",
        "colab_type": "text"
      },
      "source": [
        "<a href=\"https://colab.research.google.com/github/Swagat-modder/DL-NLP-AI-projects/blob/main/Title_Generator.ipynb\" target=\"_parent\"><img src=\"https://colab.research.google.com/assets/colab-badge.svg\" alt=\"Open In Colab\"/></a>"
      ]
    },
    {
      "cell_type": "code",
      "execution_count": 1,
      "metadata": {
        "id": "uxHhRqKCx7Li"
      },
      "outputs": [],
      "source": [
        "import pandas as pd\n",
        "import string\n",
        "import numpy as np\n",
        "import json\n",
        "from tensorflow.keras.preprocessing.sequence import pad_sequences\n",
        "from tensorflow.keras.layers import Embedding, LSTM, Dense, Dropout\n",
        "from tensorflow.keras.preprocessing.text import Tokenizer\n",
        "from tensorflow.keras.callbacks import EarlyStopping\n",
        "from tensorflow.keras.models import Sequential\n",
        "import tensorflow.keras.utils as ku"
      ]
    },
    {
      "cell_type": "code",
      "source": [
        "import tensorflow as tf\n",
        "tf.random.set_seed(2)\n",
        "from numpy.random import seed\n",
        "seed(1)"
      ],
      "metadata": {
        "id": "k06Ro7Ryy23Z"
      },
      "execution_count": 2,
      "outputs": []
    },
    {
      "cell_type": "code",
      "source": [
        "df1 = pd.read_csv('/content/USvideos.csv')\n",
        "df2 = pd.read_csv('/content/CAvideos.csv')\n",
        "df3 = pd.read_csv('/content/GBvideos.csv')\n",
        "\n",
        "#loading the datasets containing the category names\n",
        "data1 = json.load(open('/content/US_category_id.json'))\n",
        "data2 = json.load(open('/content/CA_category_id.json'))\n",
        "data3 = json.load(open('/content/GB_category_id.json'))"
      ],
      "metadata": {
        "id": "2nQUTLbFzLFN"
      },
      "execution_count": 3,
      "outputs": []
    },
    {
      "cell_type": "code",
      "source": [
        "def category_extractor(data):\n",
        "    i_d = [data['items'][i]['id'] for i in range(len(data['items']))]\n",
        "    title = [data['items'][i]['snippet'][\"title\"] for i in range(len(data['items']))]\n",
        "    i_d = list(map(int, i_d))\n",
        "    category = zip(i_d, title)\n",
        "    category = dict(category)\n",
        "    return category"
      ],
      "metadata": {
        "id": "3NZE3nTU0B-q"
      },
      "execution_count": 4,
      "outputs": []
    },
    {
      "cell_type": "code",
      "source": [
        "#creating a new category column by mapping the category names to their id\n",
        "df1['category_title'] = df1['category_id'].map(category_extractor(data1))\n",
        "df2['category_title'] = df2['category_id'].map(category_extractor(data2))\n",
        "df3['category_title'] = df3['category_id'].map(category_extractor(data3))"
      ],
      "metadata": {
        "id": "rGInK2jm0Kl8"
      },
      "execution_count": 5,
      "outputs": []
    },
    {
      "cell_type": "code",
      "source": [
        "#joining the dataframes\n",
        "df = pd.concat([df1, df2, df3], ignore_index=True)"
      ],
      "metadata": {
        "id": "7xYdn1w90QE9"
      },
      "execution_count": 6,
      "outputs": []
    },
    {
      "cell_type": "code",
      "source": [
        "#dropping rows based on duplicate videos\n",
        "df = df.drop_duplicates('video_id')"
      ],
      "metadata": {
        "id": "c0MuekTA0Tb3"
      },
      "execution_count": 7,
      "outputs": []
    },
    {
      "cell_type": "code",
      "source": [
        "#collecting only titles of entertainment videos\n",
        "entertainment = df[df['category_title'] == 'Entertainment']['title']\n",
        "entertainment = entertainment.tolist()"
      ],
      "metadata": {
        "id": "tGVH_U_U0WWb"
      },
      "execution_count": 8,
      "outputs": []
    },
    {
      "cell_type": "code",
      "source": [
        "#removing punctuations and converting text to lowercase\n",
        "def clean_text(text):\n",
        "    text = ''.join(e for e in text if e not in string.punctuation).lower()\n",
        "    text = text.encode('utf8').decode('ascii', 'ignore')\n",
        "    return text\n",
        "\n",
        "corpus = [clean_text(e) for e in entertainment]"
      ],
      "metadata": {
        "id": "sOEuua6o0b-D"
      },
      "execution_count": 9,
      "outputs": []
    },
    {
      "cell_type": "markdown",
      "source": [
        "**Generating Sequences**"
      ],
      "metadata": {
        "id": "KPZsLKDP0s_m"
      }
    },
    {
      "cell_type": "code",
      "source": [
        "tokenizer = Tokenizer(num_words=5000)#using top 5000 words\n",
        "def get_sequence_of_tokens(corpus):\n",
        "  #get tokens\n",
        "  tokenizer.fit_on_texts(corpus)\n",
        "  total_words = len(tokenizer.word_index) + 1\n",
        "\n",
        "  #convert to sequence of tokens\n",
        "  input_sequences = []\n",
        "  for line in corpus:\n",
        "    token_list = tokenizer.texts_to_sequences([line])[0]\n",
        "    for i in range(1, len(token_list)):\n",
        "        n_gram_sequence = token_list[:i+1]\n",
        "        input_sequences.append(n_gram_sequence)\n",
        "\n",
        "  return input_sequences, total_words\n",
        "inp_sequences, total_words = get_sequence_of_tokens(corpus)"
      ],
      "metadata": {
        "id": "rP5cz4Nq0gbK"
      },
      "execution_count": 10,
      "outputs": []
    },
    {
      "cell_type": "markdown",
      "source": [
        "**Padding the sequences**"
      ],
      "metadata": {
        "id": "P6K7t-S71HOs"
      }
    },
    {
      "cell_type": "code",
      "source": [
        "def generate_padded_sequences(input_sequences):\n",
        "  max_sequence_len = max([len(x) for x in input_sequences])\n",
        "  input_sequences = np.array(pad_sequences(input_sequences,  maxlen=max_sequence_len, padding='pre'))\n",
        "  predictors, label = input_sequences[:,:-1], input_sequences[:, -1]\n",
        "  label = ku.to_categorical(label, num_classes = total_words)\n",
        "  return predictors, label, max_sequence_len\n",
        "\n",
        "\n",
        "predictors, label, max_sequence_len = generate_padded_sequences(inp_sequences)"
      ],
      "metadata": {
        "id": "KtUbRnct0yKu"
      },
      "execution_count": 11,
      "outputs": []
    },
    {
      "cell_type": "markdown",
      "source": [
        "**Model Training using LSTM**"
      ],
      "metadata": {
        "id": "ynq82Zh81Vhv"
      }
    },
    {
      "cell_type": "code",
      "source": [
        "def create_model(max_sequence_len, total_words):\n",
        "  input_len = max_sequence_len - 1\n",
        "  model = Sequential()\n",
        "\n",
        "  # Adding Input Embedding Layer\n",
        "  model.add(Embedding(total_words, 10, input_length=input_len))\n",
        "\n",
        "  # Adding Hidden Layer 1 — LSTM Layer\n",
        "  model.add(LSTM(100))\n",
        "  model.add(Dropout(0.1))\n",
        "\n",
        "  # Adding Output Layer\n",
        "  model.add(Dense(total_words, activation='softmax'))\n",
        "  model.compile(loss='categorical_crossentropy', optimizer='adam')\n",
        "\n",
        "  return model\n",
        "model = create_model(max_sequence_len, total_words)\n",
        "model.fit(predictors, label, epochs=20, verbose=5)"
      ],
      "metadata": {
        "colab": {
          "base_uri": "https://localhost:8080/"
        },
        "id": "5jXNZzUG1Psa",
        "outputId": "1bdb58d4-2812-493f-a27e-f790045097c8"
      },
      "execution_count": 12,
      "outputs": [
        {
          "output_type": "stream",
          "name": "stderr",
          "text": [
            "/usr/local/lib/python3.11/dist-packages/keras/src/layers/core/embedding.py:90: UserWarning: Argument `input_length` is deprecated. Just remove it.\n",
            "  warnings.warn(\n"
          ]
        },
        {
          "output_type": "stream",
          "name": "stdout",
          "text": [
            "Epoch 1/20\n",
            "Epoch 2/20\n",
            "Epoch 3/20\n",
            "Epoch 4/20\n",
            "Epoch 5/20\n",
            "Epoch 6/20\n",
            "Epoch 7/20\n",
            "Epoch 8/20\n",
            "Epoch 9/20\n",
            "Epoch 10/20\n",
            "Epoch 11/20\n",
            "Epoch 12/20\n",
            "Epoch 13/20\n",
            "Epoch 14/20\n",
            "Epoch 15/20\n",
            "Epoch 16/20\n",
            "Epoch 17/20\n",
            "Epoch 18/20\n",
            "Epoch 19/20\n",
            "Epoch 20/20\n"
          ]
        },
        {
          "output_type": "execute_result",
          "data": {
            "text/plain": [
              "<keras.src.callbacks.history.History at 0x7cb747573550>"
            ]
          },
          "metadata": {},
          "execution_count": 12
        }
      ]
    },
    {
      "cell_type": "markdown",
      "source": [
        "**Testing The Model**"
      ],
      "metadata": {
        "id": "lqPIusse44c9"
      }
    },
    {
      "cell_type": "code",
      "source": [
        "def generate_text(seed_text, next_words, model, tokenizer, max_sequence_len):\n",
        "    for _ in range(next_words):\n",
        "        token_list = tokenizer.texts_to_sequences([seed_text])[0]\n",
        "        token_list = pad_sequences([token_list], maxlen=max_sequence_len - 1, padding='pre')\n",
        "        predicted = np.argmax(model.predict(token_list), axis=-1)\n",
        "\n",
        "        output_word = \"\"\n",
        "        for word, index in tokenizer.word_index.items():\n",
        "            if index == predicted:\n",
        "                output_word = word\n",
        "                break\n",
        "\n",
        "        seed_text += \" \" + output_word\n",
        "    return seed_text.title()"
      ],
      "metadata": {
        "id": "EzdSGjSK14kx"
      },
      "execution_count": 14,
      "outputs": []
    },
    {
      "source": [
        "def generate_text(seed_text, next_words, model, tokenizer, max_sequence_len):\n",
        "       for _ in range(next_words):\n",
        "           token_list = tokenizer.texts_to_sequences([seed_text])[0]\n",
        "           token_list = pad_sequences([token_list], maxlen=max_sequence_len - 1, padding='pre')\n",
        "           predicted_probs = model.predict(token_list, verbose=0)[0]  # Get probabilities\n",
        "\n",
        "           # Filter predicted probabilities to only include top 5000 words\n",
        "           predicted_probs[5000:] = 0  # Set probabilities of words outside top 5000 to 0\n",
        "\n",
        "           predicted = np.argmax(predicted_probs)  # Get index of most likely word within top 5000\n",
        "\n",
        "           output_word = \"\"\n",
        "           for word, index in tokenizer.word_index.items():\n",
        "               if index == predicted:\n",
        "                   output_word = word\n",
        "                   break\n",
        "           # If output_word is empty (word not in top 5000), use a placeholder\n",
        "           if not output_word:\n",
        "              output_word = \"<UNK>\"  # Or any other placeholder you prefer\n",
        "\n",
        "           seed_text += \" \" + output_word\n",
        "       return seed_text.title()"
      ],
      "cell_type": "code",
      "metadata": {
        "id": "kXVPosm18CXV"
      },
      "execution_count": 23,
      "outputs": []
    },
    {
      "source": [
        "print(generate_text(\"Bighero\", 5, model, tokenizer, max_sequence_len)) # Added tokenizer as an argument"
      ],
      "cell_type": "code",
      "metadata": {
        "colab": {
          "base_uri": "https://localhost:8080/"
        },
        "id": "0TvZ22tN7Uov",
        "outputId": "08ae00dd-24c9-4093-b17f-05c46fd2a6c9"
      },
      "execution_count": 26,
      "outputs": [
        {
          "output_type": "stream",
          "name": "stdout",
          "text": [
            "Bighero Episode 2 Ep One Urdu1\n"
          ]
        }
      ]
    },
    {
      "cell_type": "code",
      "source": [],
      "metadata": {
        "id": "y_qYC5Hs7Hbu"
      },
      "execution_count": null,
      "outputs": []
    }
  ]
}